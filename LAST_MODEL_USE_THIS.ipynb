{
 "cells": [
  {
   "cell_type": "markdown",
   "id": "fd792178",
   "metadata": {},
   "source": [
    "# Feature vectorization and questions&answers"
   ]
  },
  {
   "cell_type": "code",
   "execution_count": 2,
   "id": "efa997e1",
   "metadata": {},
   "outputs": [
    {
     "data": {
      "text/plain": [
       "'\\nfeature_vector -> [   0    0    0    0    0    0    0    0    0    0    0    0    0    0\\n    0    0    0    0    0    0    0    1    0    0    0    0    0    0\\n    0    0    0    0    2    1    1    8   12 2836]  -> first 32 hours // question2 // question3 // goes like this // ...\\n'"
      ]
     },
     "execution_count": 2,
     "metadata": {},
     "output_type": "execute_result"
    }
   ],
   "source": [
    "import numpy as np\n",
    "import random\n",
    "\n",
    "def generate_random_person():\n",
    "    person = {}\n",
    "    #hour = random.randint(21, 23)\n",
    "    #minute = random.choice([\"00\", \"15\", \"30\", \"45\"])\n",
    "    person[\"Uyku Saati\"] = random.choice([\"21:00\", \"21:15\", \"21:30\", \"21:45\", \"22:00\", \"22:15\", \"22:30\", \"22:45\", \"23:00\", \"23:15\", \"23:30\", \"23:45\", \"00:00\", \"00:15\", \"00:30\", \"00:45\", \"01:00\", \"01:15\", \"01:30\", \"01:45\", \"02:00\", \"02:15\", \"02:30\", \"02:45\", \"03:00\", \"03:15\", \"03:30\", \"03:45\", \"04:00\", \"04:15\", \"04:30\", \"04:45\", \"05:00\"]) \n",
    "    # 33 numbers of different sleep time\n",
    "    #person[\"Uyku Saati\"] = f\"{hour}:{minute}\"\n",
    "    person[\"Ortalama\"] = round(random.uniform(1.0, 4.0), 2)\n",
    "    person[\"Sigara Kullanımı\"] = random.choice([\"evet\", \"hayır\"])\n",
    "    person[\"Evcil Hayvan\"] = random.choice([\"evet\", \"hayır\"])\n",
    "    person[\"Lüks Önemi\"] = random.randint(1, 10)\n",
    "    person[\"Kira Süresi\"] = random.randint(2, 20)\n",
    "    person[\"Fiyat Aralığı\"] = random.randint(1000, 5000)\n",
    "    return person\n",
    "\n",
    "def get_person_answers(person):\n",
    "    answers = {}\n",
    "    answers[\"Soru 1: Genelde kaçta uyursun?\"] = person[\"Uyku Saati\"]\n",
    "    answers[\"Soru 2: Ortalaman kaç?\"] = person[\"Ortalama\"]\n",
    "    answers[\"Soru 3: Sigara kullanıyor musun?\"] = person[\"Sigara Kullanımı\"]\n",
    "    answers[\"Soru 4: Evcil hayvanın var mı?\"] = person[\"Evcil Hayvan\"]\n",
    "    answers[\"Soru 5: Evinizin lüks olması ne kadar önemli?\"] = person[\"Lüks Önemi\"]\n",
    "    answers[\"Soru 6: Evi kaç aylığına kiralamak istiyorsunuz?\"] = person[\"Kira Süresi\"]\n",
    "    answers[\"Soru 7: Fiyat aralığınız nedir?\"] = person[\"Fiyat Aralığı\"]\n",
    "    return answers\n",
    "\n",
    "###########################################\n",
    "def create_feature_vector(answers): # creates feature vector from certain answer dictionary\n",
    "    feature_vector = np.zeros(39) # comes from the questions 32 sleep\n",
    "    # 1 gpa 1 smoking 1 pet 1 luxury 1 rent duration 1 price\n",
    "    \n",
    "    # Genelde kaçta uyursun?\n",
    "    ''' wrong because minute information \n",
    "    sleep_time = answers[\"Soru 1: Genelde kaçta uyursun?\"]\n",
    "    index = int(sleep_time[:2]) - 21 #04.30\n",
    "    feature_vector[index] = 1\n",
    "    '''\n",
    "    sleep_time = answers[\"Soru 1: Genelde kaçta uyursun?\"]\n",
    "    hour = int(sleep_time[:2])\n",
    "    minute = int(sleep_time[3:])\n",
    "    if \"0\" in str(hour) or len(str(hour)) == 1:\n",
    "        hour += 24\n",
    "    index = int((hour - 21) * 4 + minute / 15) #4 means 21 -- 22 difference it should jump to 4 index after\n",
    "    feature_vector[index] = 1\n",
    "    \n",
    "    # Ortalaman kaç?\n",
    "    average = answers[\"Soru 2: Ortalaman kaç?\"]\n",
    "    feature_vector[33] = average\n",
    "    \n",
    "    # Sigara kullanıyor musun?\n",
    "    smoking = answers[\"Soru 3: Sigara kullanıyor musun?\"]\n",
    "    feature_vector[34] = 1 if smoking == \"evet\" else 0\n",
    "    \n",
    "    # Evcil hayvanın var mı?\n",
    "    pet = answers[\"Soru 4: Evcil hayvanın var mı?\"]\n",
    "    feature_vector[35] = 1 if pet == \"evet\" else 0\n",
    "    \n",
    "    # Evinizin lüks olması ne kadar önemli?\n",
    "    luxury = answers[\"Soru 5: Evinizin lüks olması ne kadar önemli?\"]\n",
    "    feature_vector[36] = luxury\n",
    "    \n",
    "    # Evi kaç aylığına kiralamak istiyorsunuz?\n",
    "    lease_duration = answers[\"Soru 6: Evi kaç aylığına kiralamak istiyorsunuz?\"]\n",
    "    feature_vector[37] = lease_duration\n",
    "    \n",
    "    # Fiyat aralığınız nedir?\n",
    "    price_range = answers[\"Soru 7: Fiyat aralığınız nedir?\"]\n",
    "    feature_vector[38] = price_range\n",
    "    \n",
    "    return feature_vector\n",
    "\n",
    "answers_list = [] # stores answers which all are dictionaries\n",
    "# 1000 kişi için otomatik olarak cevaplar oluşturan kod\n",
    "for _ in range(2000):\n",
    "    person = generate_random_person()\n",
    "    #hour = random.randint(0, 4)\n",
    "    #minute = random.choice([\"00\", \"15\", \"30\", \"45\"])\n",
    "    #person[\"Uyku Saati\"] = f\"{hour:02d}:{minute}\"\n",
    "    answers = get_person_answers(person)\n",
    "    answers_list.append(answers)\n",
    "    for question, answer in answers.items(): # This part just prints the questions and answers\n",
    "        #print(question)\n",
    "        #print(\"Cevap: \", answer)\n",
    "        pass\n",
    "    #print(\"==============================\")\n",
    "\n",
    "# So far we created 10000 person and their different personalities    \n",
    "\n",
    "#print(answers_list)\n",
    "\n",
    "# Örnek bir kişi için özellik vektörünü oluşturma\n",
    "person = {\n",
    "    \"Soru 1: Genelde kaçta uyursun?\": \"21:00\",\n",
    "    \"Soru 2: Ortalaman kaç?\": 3.5,\n",
    "    \"Soru 3: Sigara kullanıyor musun?\": \"hayır\",\n",
    "    \"Soru 4: Evcil hayvanın var mı?\": \"evet\",\n",
    "    \"Soru 5: Evinizin lüks olması ne kadar önemli?\": 8,\n",
    "    \"Soru 6: Evi kaç aylığına kiralamak istiyorsunuz?\": 12,\n",
    "    \"Soru 7: Fiyat aralığınız nedir?\": 3000\n",
    "}\n",
    "\n",
    "# creating feature_vectors for which all of the answers\n",
    "\n",
    "feature_vector_list = []\n",
    "for answer in answers_list:\n",
    "    feature_vector = create_feature_vector(answer)\n",
    "    feature_vector = feature_vector.astype(int)\n",
    "    feature_vector_list.append(feature_vector)\n",
    "    #print(\"Özellik vektörü:\", feature_vector)\n",
    "#print(feature_vector_list)\n",
    "\n",
    "'''\n",
    "feature_vector -> [   0    0    0    0    0    0    0    0    0    0    0    0    0    0\n",
    "    0    0    0    0    0    0    0    1    0    0    0    0    0    0\n",
    "    0    0    0    0    2    1    1    8   12 2836]  -> first 32 hours // question2 // question3 // goes like this // ...\n",
    "'''\n"
   ]
  },
  {
   "cell_type": "code",
   "execution_count": 3,
   "id": "c21b051e",
   "metadata": {},
   "outputs": [],
   "source": [
    "#answers_list"
   ]
  },
  {
   "cell_type": "markdown",
   "id": "0ee28941",
   "metadata": {},
   "source": [
    "# Clustering classes according to questions&answers"
   ]
  },
  {
   "cell_type": "code",
   "execution_count": 4,
   "id": "07f657a4",
   "metadata": {},
   "outputs": [],
   "source": [
    "from sklearn.cluster import KMeans\n",
    "\n",
    "# importing data set\n",
    "X = feature_vector_list\n",
    "\n",
    "# K-means clustering\n",
    "kmeans = KMeans(n_clusters=5) # we have 5 classes \n",
    "kmeans.fit(X)\n",
    "\n",
    "# take the clusters\n",
    "clusters = kmeans.labels_\n",
    "\n",
    "# converting clusters to class labels\n",
    "class_labels = {0: \"Long Term\", 1: \"Short Term\", 2: \"Chill\", 3: \"Lux Care\", 4: \"High Mark\"}\n",
    "predicted_labels = [class_labels[cluster] for cluster in clusters]"
   ]
  },
  {
   "cell_type": "code",
   "execution_count": 5,
   "id": "a51b9c2b",
   "metadata": {},
   "outputs": [],
   "source": [
    "#predicted_labels"
   ]
  },
  {
   "cell_type": "markdown",
   "id": "58d703e8",
   "metadata": {},
   "source": [
    "# Trying other clustering algorithms"
   ]
  },
  {
   "cell_type": "markdown",
   "id": "926c7f38",
   "metadata": {},
   "source": [
    "# AgglomerativeClustering"
   ]
  },
  {
   "cell_type": "code",
   "execution_count": 6,
   "id": "4c73cf0d",
   "metadata": {},
   "outputs": [],
   "source": [
    "from sklearn.cluster import AgglomerativeClustering # Use this for now\n",
    "\n",
    "# Veri setini yükleme\n",
    "X = feature_vector_list\n",
    "\n",
    "# Hiyerarşik Kümeleme modelini uygulama\n",
    "clustering = AgglomerativeClustering(n_clusters=5)\n",
    "clustering.fit(X)\n",
    "\n",
    "# Küme etiketlerini al\n",
    "cluster_labels = clustering.labels_\n",
    "\n",
    "# Küme etiketlerini sınıf etiketlerine dönüştürme\n",
    "class_labels = {0: \"Long Term\", 1: \"Short Term\", 2: \"Chill\", 3: \"Lux Care\", 4: \"High Mark\"}\n",
    "predicted_labels = [class_labels[label] for label in cluster_labels]"
   ]
  },
  {
   "cell_type": "code",
   "execution_count": 7,
   "id": "33edd2d0",
   "metadata": {},
   "outputs": [
    {
     "data": {
      "text/plain": [
       "array([4, 3, 3, ..., 0, 3, 0], dtype=int64)"
      ]
     },
     "execution_count": 7,
     "metadata": {},
     "output_type": "execute_result"
    }
   ],
   "source": [
    "cluster_labels"
   ]
  },
  {
   "cell_type": "code",
   "execution_count": 8,
   "id": "c8a49b83",
   "metadata": {},
   "outputs": [],
   "source": [
    "#predicted_labels"
   ]
  },
  {
   "cell_type": "markdown",
   "id": "16fa6e25",
   "metadata": {},
   "source": [
    "# GaussianMixture "
   ]
  },
  {
   "cell_type": "code",
   "execution_count": 9,
   "id": "b1eac281",
   "metadata": {},
   "outputs": [],
   "source": [
    "from sklearn.mixture import GaussianMixture\n",
    "\n",
    "# Veri setini yükleme veya oluşturma\n",
    "# X: Özellik vektörleri\n",
    "X = feature_vector_list\n",
    "# GMM modelini oluşturma\n",
    "gmm = GaussianMixture(n_components=5)  # 5 küme oluşturmak için\n",
    "\n",
    "# GMM modelini veriye uydurma\n",
    "gmm.fit(X)\n",
    "\n",
    "# Veri noktalarının kümelere atanması\n",
    "labels = gmm.predict(X)\n",
    "#labels\n",
    "# Elde edilen küme etiketlerini kullanma\n",
    "# İşlemler, küme analizi, görselleştirme vb.\n",
    "class_labels = {0: \"Long Term\", 1: \"Short Term\", 2: \"Chill\", 3: \"Lux Care\", 4: \"High Mark\"}\n",
    "predicted_labels = [class_labels[label] for label in labels]"
   ]
  },
  {
   "cell_type": "code",
   "execution_count": 10,
   "id": "513caa2b",
   "metadata": {},
   "outputs": [
    {
     "data": {
      "text/plain": [
       "array([3, 2, 1, ..., 0, 2, 1], dtype=int64)"
      ]
     },
     "execution_count": 10,
     "metadata": {},
     "output_type": "execute_result"
    }
   ],
   "source": [
    "labels"
   ]
  },
  {
   "cell_type": "code",
   "execution_count": 12,
   "id": "7167d9c2",
   "metadata": {},
   "outputs": [],
   "source": [
    "#predicted_labels"
   ]
  },
  {
   "cell_type": "markdown",
   "id": "e37391d9",
   "metadata": {},
   "source": [
    "# Model SVC"
   ]
  },
  {
   "cell_type": "code",
   "execution_count": 13,
   "id": "f7c0ecc4",
   "metadata": {},
   "outputs": [
    {
     "name": "stdout",
     "output_type": "stream",
     "text": [
      "Model accuracy: 0.98\n"
     ]
    }
   ],
   "source": [
    "from sklearn.model_selection import train_test_split\n",
    "from sklearn.svm import SVC\n",
    "from sklearn.metrics import accuracy_score\n",
    "\n",
    "# Veri setini hazırlama\n",
    "X = feature_vector_list\n",
    "y = clusters     # KMEANS --> y=clusters && AgglomerativeClustering --> y=cluster_labels && GaussianMixture --> y=labels\n",
    "\n",
    "# Veri setini eğitim ve test seti olarak bölme\n",
    "X_train, X_test, y_train, y_test = train_test_split(X, y, test_size=0.2, random_state=42)\n",
    "\n",
    "# Sınıflandırma modelini seçme (örneğin, Support Vector Machine)\n",
    "model = SVC()\n",
    "\n",
    "# Modeli eğitme\n",
    "model.fit(X_train, y_train)\n",
    "\n",
    "# Modeli test verileriyle değerlendirme\n",
    "y_pred = model.predict(X_test)\n",
    "accuracy = accuracy_score(y_test, y_pred)\n",
    "print(\"Model accuracy:\", accuracy)\n",
    "\n"
   ]
  },
  {
   "cell_type": "code",
   "execution_count": 14,
   "id": "6aacf0d9",
   "metadata": {
    "scrolled": false
   },
   "outputs": [
    {
     "data": {
      "text/plain": [
       "array([0, 3, 3, ..., 2, 3, 2])"
      ]
     },
     "execution_count": 14,
     "metadata": {},
     "output_type": "execute_result"
    }
   ],
   "source": [
    "y"
   ]
  },
  {
   "cell_type": "code",
   "execution_count": 15,
   "id": "a6b170a2",
   "metadata": {},
   "outputs": [
    {
     "data": {
      "text/plain": [
       "array([0, 1, 2, 3, 4])"
      ]
     },
     "execution_count": 15,
     "metadata": {},
     "output_type": "execute_result"
    }
   ],
   "source": [
    "unique_y = np.unique(y)\n",
    "unique_y"
   ]
  },
  {
   "cell_type": "markdown",
   "id": "a9470eb0",
   "metadata": {},
   "source": [
    "# Other Models"
   ]
  },
  {
   "cell_type": "code",
   "execution_count": 17,
   "id": "1e5c54ce",
   "metadata": {},
   "outputs": [
    {
     "data": {
      "text/plain": [
       "'\\ny_pred = model.predict(X_test)\\naccuracy = accuracy_score(y_test, y_pred)\\nprint(\"Model accuracy:\", accuracy)\\n'"
      ]
     },
     "execution_count": 17,
     "metadata": {},
     "output_type": "execute_result"
    }
   ],
   "source": [
    "from sklearn.tree import DecisionTreeClassifier\n",
    "\n",
    "# Öznitelik vektörleri\n",
    "X = feature_vector_list\n",
    "\n",
    "# Sınıflandırmalar\n",
    "y = clusters\n",
    "\n",
    "# Karar ağacı modelini oluşturma\n",
    "DecisionTree_model = DecisionTreeClassifier()\n",
    "\n",
    "# Modeli eğitme\n",
    "DecisionTree_model.fit(X, y)\n",
    "\n",
    "# Eğitilmiş modelle tahmin yapma\n",
    "predictions = DecisionTree_model.predict(X)\n",
    "\n",
    "\n",
    "# Tahminleri görüntüleme\n",
    "for i, prediction in enumerate(predictions):\n",
    "    #print(f\"Öznitelik vektörü {i+1}: {X[i]}\")\n",
    "    #print(f\"Sınıflandırma tahmini: {prediction}\")\n",
    "    #print(\"==============================\")\n",
    "    pass\n",
    "\n",
    "\n",
    "'''\n",
    "y_pred = model.predict(X_test)\n",
    "accuracy = accuracy_score(y_test, y_pred)\n",
    "print(\"Model accuracy:\", accuracy)\n",
    "'''"
   ]
  },
  {
   "cell_type": "markdown",
   "id": "e3a09b04",
   "metadata": {},
   "source": [
    "# Model predict"
   ]
  },
  {
   "cell_type": "code",
   "execution_count": 22,
   "id": "02654f6c",
   "metadata": {},
   "outputs": [],
   "source": [
    "new_feature_predict_vector = np.array([ 0,    0,    0,    0,    0,    0,    0,    0,    0,    1,    0,\n",
    "          0,    0,    0,    0,    0,    0,    0,    0,    0,    0,    0,\n",
    "          0,    0,    0,    0,    0,    0,    0,    0,    0,    0,    0,\n",
    "          1,    0,    1,    4,   15, 2000])\n",
    "new_feature_predict_vector = new_feature_predict_vector.astype(int).reshape(1,-1)"
   ]
  },
  {
   "cell_type": "code",
   "execution_count": 23,
   "id": "327698b2",
   "metadata": {},
   "outputs": [
    {
     "data": {
      "text/plain": [
       "array([2])"
      ]
     },
     "execution_count": 23,
     "metadata": {},
     "output_type": "execute_result"
    }
   ],
   "source": [
    "# Yeni feature vectorler için sınıf tahmini yapma\n",
    "y_pred_new = model.predict(new_feature_predict_vector)\n",
    "y_pred_new #4 HIGH MARK"
   ]
  },
  {
   "cell_type": "markdown",
   "id": "53bdddfa",
   "metadata": {},
   "source": [
    "# Model deployment"
   ]
  },
  {
   "cell_type": "code",
   "execution_count": 112,
   "id": "8599dfe7",
   "metadata": {},
   "outputs": [
    {
     "data": {
      "text/plain": [
       "['svc_model.pkl']"
      ]
     },
     "execution_count": 112,
     "metadata": {},
     "output_type": "execute_result"
    }
   ],
   "source": [
    "import joblib\n",
    "\n",
    "# Modeli kaydetme\n",
    "joblib.dump(model, 'svc_model.pkl')\n"
   ]
  },
  {
   "cell_type": "code",
   "execution_count": 113,
   "id": "fc59f3ad",
   "metadata": {
    "scrolled": true
   },
   "outputs": [
    {
     "data": {
      "text/plain": [
       "array([4])"
      ]
     },
     "execution_count": 113,
     "metadata": {},
     "output_type": "execute_result"
    }
   ],
   "source": [
    "# Modeli yükleme\n",
    "model = joblib.load('svc_model.pkl')\n",
    "\n",
    "# Yeni feature vectorler için sınıf tahmini yapma\n",
    "y_pred = model.predict(new_feature_predict_vector)\n",
    "y_pred"
   ]
  },
  {
   "cell_type": "markdown",
   "id": "c4ee762f",
   "metadata": {},
   "source": [
    "# Data Visualization"
   ]
  },
  {
   "cell_type": "code",
   "execution_count": 206,
   "id": "74099aaf",
   "metadata": {},
   "outputs": [
    {
     "data": {
      "text/plain": [
       "{'Long Term': 390,\n",
       " 'Short Term': 396,\n",
       " 'Chill': 420,\n",
       " 'Lux Care': 398,\n",
       " 'High Mark': 396}"
      ]
     },
     "execution_count": 206,
     "metadata": {},
     "output_type": "execute_result"
    }
   ],
   "source": [
    "from collections import Counter\n",
    "\n",
    "liste = predicted_labels\n",
    "\n",
    "tekrar_sayisi = Counter(liste)\n",
    "class_counts = {label: 0 for label in class_labels.values()}\n",
    "for deger, sayi in tekrar_sayisi.items():\n",
    "    class_counts[deger] = sayi\n",
    "class_cp"
   ]
  },
  {
   "cell_type": "code",
   "execution_count": 209,
   "id": "27fa3764",
   "metadata": {},
   "outputs": [
    {
     "data": {
      "image/png": "[encoded data removed]",
      "text/plain": [
       "<Figure size 432x288 with 1 Axes>"
      ]
     },
     "metadata": {
      "needs_background": "light"
     },
     "output_type": "display_data"
    }
   ],
   "source": [
    "import matplotlib.pyplot as plt\n",
    "from collections import Counter\n",
    "\n",
    "class_labels = {\n",
    "    1: \"Long Term\",\n",
    "    2: \"Short Term\",\n",
    "    3: \"Chill\",\n",
    "    4: \"Lux Care\",\n",
    "    5: \"High Mark\"\n",
    "}\n",
    "liste = predicted_labels\n",
    "tekrar_sayisi = Counter(liste)\n",
    "class_counts = {label: 0 for label in class_labels.values()}\n",
    "\n",
    "for deger, sayi in tekrar_sayisi.items():\n",
    "    class_counts[deger] = sayi\n",
    "# Sınıf dağılımını bar grafik olarak çizin\n",
    "plt.bar(class_names, class_counts.values())\n",
    "plt.xlabel(\"Class\")\n",
    "plt.ylabel(\"Count\")\n",
    "plt.title(\"Class Distribution\")\n",
    "plt.show()"
   ]
  },
  {
   "cell_type": "code",
   "execution_count": 26,
   "id": "7e4fa178",
   "metadata": {},
   "outputs": [
    {
     "data": {
      "image/png": "[encoded data removed]",
      "text/plain": [
       "<Figure size 432x288 with 1 Axes>"
      ]
     },
     "metadata": {
      "needs_background": "light"
     },
     "output_type": "display_data"
    },
    {
     "data": {
      "image/png": "[encoded data removed]",
      "text/plain": [
       "<Figure size 432x288 with 1 Axes>"
      ]
     },
     "metadata": {
      "needs_background": "light"
     },
     "output_type": "display_data"
    },
    {
     "data": {
      "image/png": "[encoded data removed]",
      "text/plain": [
       "<Figure size 432x288 with 1 Axes>"
      ]
     },
     "metadata": {
      "needs_background": "light"
     },
     "output_type": "display_data"
    },
    {
     "data": {
      "image/png": "[encoded data removed]",
      "text/plain": [
       "<Figure size 432x288 with 1 Axes>"
      ]
     },
     "metadata": {
      "needs_background": "light"
     },
     "output_type": "display_data"
    },
    {
     "data": {
      "image/png": "[encoded data removed]",
      "text/plain": [
       "<Figure size 432x288 with 1 Axes>"
      ]
     },
     "metadata": {
      "needs_background": "light"
     },
     "output_type": "display_data"
    },
    {
     "data": {
      "image/png": "[encoded data removed]",
      "text/plain": [
       "<Figure size 432x288 with 1 Axes>"
      ]
     },
     "metadata": {
      "needs_background": "light"
     },
     "output_type": "display_data"
    },
    {
     "data": {
      "image/png": "[encoded data removed]",
      "text/plain": [
       "<Figure size 432x288 with 1 Axes>"
      ]
     },
     "metadata": {
      "needs_background": "light"
     },
     "output_type": "display_data"
    }
   ],
   "source": [
    "import matplotlib.pyplot as plt\n",
    "\n",
    "# Sorular ve cevaplar\n",
    "sorular = [\"Soru 1: Genelde kaçta uyursun?\",\n",
    "           \"Soru 2: Ortalaman kaç?\",\n",
    "           \"Soru 3: Sigara kullanıyor musun?\",\n",
    "           \"Soru 4: Evcil hayvanın var mı?\",\n",
    "           \"Soru 5: Evinizin lüks olması ne kadar önemli?\",\n",
    "           \"Soru 6: Evi kaç aylığına kiralamak istiyorsunuz?\",\n",
    "           \"Soru 7: Fiyat aralığınız nedir?\"]\n",
    "\n",
    "cevaplar = [(\"01:15\", 3.12, \"evet\", \"evet\", 10, 2, 1764),\n",
    "            # Diğer cevaplar buraya eklenebilir\n",
    "            ]\n",
    "\n",
    "# Grafik oluşturma\n",
    "for i, soru in enumerate(sorular):\n",
    "    cevap_listesi = [cevap[i] for cevap in cevaplar]\n",
    "    unique_cevaplar = list(set(cevap_listesi))\n",
    "    toplam_kisi_sayisi = [cevap_listesi.count(cevap) for cevap in unique_cevaplar]\n",
    "\n",
    "    fig, ax = plt.subplots()\n",
    "    ax.bar(unique_cevaplar, toplam_kisi_sayisi)\n",
    "    ax.set_xlabel(\"Cevap\")\n",
    "    ax.set_ylabel(\"Toplam Kişi Sayısı\")\n",
    "    ax.set_title(soru)\n",
    "\n",
    "    # Yükseklik değerlerini tam sayılara dönüştürme\n",
    "    ax.yaxis.set_major_locator(plt.MaxNLocator(integer=True))\n",
    "\n",
    "plt.show()"
   ]
  },
  {
   "cell_type": "code",
   "execution_count": 50,
   "id": "5ee45352",
   "metadata": {},
   "outputs": [
    {
     "data": {
      "image/png": "[encoded data removed]",
      "text/plain": [
       "<Figure size 864x720 with 1 Axes>"
      ]
     },
     "metadata": {
      "needs_background": "light"
     },
     "output_type": "display_data"
    },
    {
     "data": {
      "image/png": "[encoded data removed]",
      "text/plain": [
       "<Figure size 864x720 with 1 Axes>"
      ]
     },
     "metadata": {
      "needs_background": "light"
     },
     "output_type": "display_data"
    },
    {
     "data": {
      "image/png": "[encoded data removed]",
      "text/plain": [
       "<Figure size 864x720 with 1 Axes>"
      ]
     },
     "metadata": {
      "needs_background": "light"
     },
     "output_type": "display_data"
    },
    {
     "data": {
      "image/png": "[encoded data removed]",
      "text/plain": [
       "<Figure size 864x720 with 1 Axes>"
      ]
     },
     "metadata": {
      "needs_background": "light"
     },
     "output_type": "display_data"
    },
    {
     "data": {
      "image/png": "[encoded data removed]",
      "text/plain": [
       "<Figure size 864x720 with 1 Axes>"
      ]
     },
     "metadata": {
      "needs_background": "light"
     },
     "output_type": "display_data"
    },
    {
     "data": {
      "image/png": "[encoded data removed]",
      "text/plain": [
       "<Figure size 864x720 with 1 Axes>"
      ]
     },
     "metadata": {
      "needs_background": "light"
     },
     "output_type": "display_data"
    },
    {
     "data": {
      "image/png": "[encoded data removed]",
      "text/plain": [
       "<Figure size 864x720 with 1 Axes>"
      ]
     },
     "metadata": {
      "needs_background": "light"
     },
     "output_type": "display_data"
    }
   ],
   "source": [
    "import matplotlib.pyplot as plt\n",
    "\n",
    "# Sorular\n",
    "sorular = [\"Soru 1: Genelde kaçta uyursun?\",\n",
    "           \"Soru 2: Ortalaman kaç?\",\n",
    "           \"Soru 3: Sigara kullanıyor musun?\",\n",
    "           \"Soru 4: Evcil hayvanın var mı?\",\n",
    "           \"Soru 5: Evinizin lüks olması ne kadar önemli?\",\n",
    "           \"Soru 6: Evi kaç aylığına kiralamak istiyorsunuz?\",\n",
    "           \"Soru 7: Fiyat aralığınız nedir?\"]\n",
    "\n",
    "# Cevaplar listesi\n",
    "cevaplar = answers_list\n",
    "\n",
    "# Her bir soru için ayrı bir histogram oluşturma\n",
    "for i, soru in enumerate(sorular):\n",
    "    cevap_listesi = [cevap[soru] for cevap in cevaplar if soru in cevap]\n",
    "\n",
    "    # Histogram oluşturma\n",
    "    plt.figure(figsize=(12, 10))  # Grafik boyutunu ayarla #18,16\n",
    "    plt.hist(cevap_listesi, bins='auto', edgecolor='black')\n",
    "    plt.xlabel(\"Cevap\")\n",
    "    plt.ylabel(\"Frekans\")\n",
    "    plt.title(soru)\n",
    "\n",
    "    plt.show()"
   ]
  },
  {
   "cell_type": "code",
   "execution_count": null,
   "id": "b067f1de",
   "metadata": {},
   "outputs": [],
   "source": [
    "short_feature_vector_list = feature_vector_list[:100]\n",
    "short_predicted_labels = predicted_labels[:100]\n",
    "for enum_num,feature_vector in enumerate(short_feature_vector_list):\n",
    "    #np.insert(feature_vector,len(feature_vector),short_predicted_labels[enum_num])\n",
    "    feature_vector = np.append(feature_vector,short_predicted_labels[enum_num]).astype('object')\n",
    "    short_feature_vector_list[enum_num] = feature_vector\n"
   ]
  },
  {
   "cell_type": "code",
   "execution_count": null,
   "id": "079f25b4",
   "metadata": {},
   "outputs": [],
   "source": [
    "short_feature_vector_list"
   ]
  },
  {
   "cell_type": "code",
   "execution_count": null,
   "id": "f3c760f9",
   "metadata": {},
   "outputs": [],
   "source": []
  },
  {
   "cell_type": "code",
   "execution_count": null,
   "id": "9672827b",
   "metadata": {},
   "outputs": [],
   "source": []
  },
  {
   "cell_type": "code",
   "execution_count": null,
   "id": "317a773b",
   "metadata": {},
   "outputs": [],
   "source": []
  },
  {
   "cell_type": "code",
   "execution_count": null,
   "id": "c6702aea",
   "metadata": {},
   "outputs": [],
   "source": []
  },
  {
   "cell_type": "code",
   "execution_count": null,
   "id": "30d18470",
   "metadata": {},
   "outputs": [],
   "source": []
  }
 ],
 "metadata": {
  "kernelspec": {
   "display_name": "Python 3 (ipykernel)",
   "language": "python",
   "name": "python3"
  },
  "language_info": {
   "codemirror_mode": {
    "name": "ipython",
    "version": 3
   },
   "file_extension": ".py",
   "mimetype": "text/x-python",
   "name": "python",
   "nbconvert_exporter": "python",
   "pygments_lexer": "ipython3",
   "version": "3.9.7"
  }
 },
 "nbformat": 4,
 "nbformat_minor": 5
}
